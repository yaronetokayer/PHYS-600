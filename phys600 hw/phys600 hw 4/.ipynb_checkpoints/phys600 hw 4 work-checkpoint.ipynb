{
 "cells": [
  {
   "cell_type": "markdown",
   "id": "f0379d1f-39da-440a-a20f-dd5a2fa71ea2",
   "metadata": {},
   "source": [
    "# Phys 600: HW 4\n",
    "Yarone Tokayer\n",
    "\n",
    "October 29, 2023"
   ]
  },
  {
   "cell_type": "code",
   "execution_count": 1,
   "id": "f28af56c-ad75-44d4-b813-efd9d8937c2d",
   "metadata": {},
   "outputs": [],
   "source": [
    "# Install packages\n",
    "\n",
    "# from astropy.cosmology import FlatLambdaCDM\n",
    "from astropy import units as u\n",
    "\n",
    "import numpy as np\n",
    "from scipy.special import zeta\n",
    "\n",
    "import matplotlib.pyplot as plt\n",
    "\n",
    "from tqdm import tqdm"
   ]
  },
  {
   "cell_type": "code",
   "execution_count": 2,
   "id": "59fa37f7-642c-4322-a226-25edbfc14867",
   "metadata": {},
   "outputs": [],
   "source": [
    "plt.rcParams.update({\n",
    "    \"text.usetex\": True,\n",
    "    \"font.family\": \"Helvetica\"\n",
    "})"
   ]
  },
  {
   "cell_type": "markdown",
   "id": "70c9c66e-ab88-43ea-9957-2dde8e5a98ae",
   "metadata": {},
   "source": [
    "# Problem 1"
   ]
  },
  {
   "cell_type": "markdown",
   "id": "dfbade10-1dee-4d4f-b1b6-720f42591aa0",
   "metadata": {},
   "source": [
    "## 1.2: Figure for $X_e(z)$"
   ]
  },
  {
   "cell_type": "code",
   "execution_count": 3,
   "id": "78cb6958-cf78-4ecb-8083-270ce6b1468c",
   "metadata": {},
   "outputs": [],
   "source": [
    "# Constants\n",
    "\n",
    "Tcmb0 = 0.235 * u.meV # CMB temperature today\n",
    "eta = 6e-10 # Baryons-to-photon fraction (Baumann)\n",
    "E_I = 13.6 * u.eV # Ionization energy of hydrogen \n",
    "m_e = 0.510998950 * u.MeV # Mass of electron (Wikipedia)"
   ]
  },
  {
   "cell_type": "code",
   "execution_count": 4,
   "id": "75127d9f-eb8c-4456-88ef-912a9060b97f",
   "metadata": {},
   "outputs": [],
   "source": [
    "def x_e(z):\n",
    "    '''\n",
    "    Function to compute the electron fraction as a function of redshift\n",
    "\n",
    "    Inputs:\n",
    "    z - Redshift\n",
    "\n",
    "    Returns:\n",
    "    x_e - free electron fraction at that redshift\n",
    "    '''\n",
    "\n",
    "    T = Tcmb0 * ( 1 + z )\n",
    "\n",
    "    a = (2 * zeta(3) / np.pi ** 2) * eta * ((2 * np.pi * T / m_e) ** (3/2)) * np.exp(E_I / T)\n",
    "\n",
    "    x_e = ((-1 + np.sqrt(1 + 4*a)) / (2 * a)).to(u.dimensionless_unscaled).value\n",
    "\n",
    "    return x_e"
   ]
  },
  {
   "cell_type": "markdown",
   "id": "93c1f8bb-4ee3-4d60-95fc-c49531d29573",
   "metadata": {},
   "source": [
    "## 1.3: Invert to find $z(X_e)$"
   ]
  },
  {
   "cell_type": "code",
   "execution_count": 5,
   "id": "1dd398c1-247e-4dcf-bed2-2357447e791d",
   "metadata": {},
   "outputs": [],
   "source": [
    "def x_e_to_z(x_e_target, tolerance=1e-6):\n",
    "    '''\n",
    "    Function to find redshift (z) given the free electron fraction (x_e) using a bisection method.\n",
    "\n",
    "    Inputs:\n",
    "    x_e_target - Free electron fraction\n",
    "    tolerance - Tolerance for the bisection method convergence\n",
    "\n",
    "    Returns:\n",
    "    z - Redshift corresponding to the given lookback time\n",
    "    '''\n",
    "\n",
    "    # Initialize the search interval for z\n",
    "    z_low, z_high = 1e2, 1e4\n",
    "\n",
    "    # Perform the bisection search\n",
    "    while z_high - z_low > tolerance:\n",
    "        z_mid = (z_low + z_high) / 2\n",
    "        x_e_mid = x_e(z_mid)\n",
    "        if x_e_mid > x_e_target:\n",
    "            z_high = z_mid\n",
    "        else:\n",
    "            z_low = z_mid\n",
    "\n",
    "    # The bisection method has converged; return the redshift\n",
    "    return z_mid"
   ]
  },
  {
   "cell_type": "markdown",
   "id": "3756a0fa-8ee8-4ab5-bb10-cae8adb4c602",
   "metadata": {},
   "source": [
    "Our two points of interest:"
   ]
  },
  {
   "cell_type": "code",
   "execution_count": 6,
   "id": "508c8c57-09f6-4e07-ba9a-72e865f798d7",
   "metadata": {},
   "outputs": [
    {
     "data": {
      "text/plain": [
       "(1258.9799694891553, 1377.2434625017922)"
      ]
     },
     "execution_count": 6,
     "metadata": {},
     "output_type": "execute_result"
    }
   ],
   "source": [
    "x_e_to_z(0.1), x_e_to_z(0.5)"
   ]
  },
  {
   "cell_type": "markdown",
   "id": "885f1c4e-f1ba-4598-9723-6436c6a4f188",
   "metadata": {},
   "source": [
    "Now we can plot everything:"
   ]
  },
  {
   "cell_type": "code",
   "execution_count": 7,
   "id": "d7328d8b-dcfc-4d0d-9d2d-8229b2b782df",
   "metadata": {},
   "outputs": [],
   "source": [
    "# Redshift range to calculate\n",
    "\n",
    "z = np.linspace(1000, 2000, 1000)"
   ]
  },
  {
   "cell_type": "code",
   "execution_count": 8,
   "id": "a27e2a2f-45fd-4558-ae74-3f10643ac44e",
   "metadata": {},
   "outputs": [
    {
     "data": {
      "image/png": "[encoded data removed]",
      "text/plain": [
       "<Figure size 800x600 with 1 Axes>"
      ]
     },
     "metadata": {},
     "output_type": "display_data"
    }
   ],
   "source": [
    "fig, ax = plt.subplots(1, 1, figsize=(8,6))\n",
    "\n",
    "ax.plot(z, x_e(z), color='black')\n",
    "ax.axhline(y=0.5, color=(0.4,0.4,0.4), ls='--')\n",
    "ax.axhline(y=0.1, color=(0.7,0.7,0.7), ls='--')\n",
    "ax.axvline(x=x_e_to_z(0.5), color=(0.4,0.4,0.4), ls='--')\n",
    "ax.axvline(x=x_e_to_z(0.1), color=(0.7,0.7,0.7), ls='--')\n",
    "\n",
    "ax.set_axisbelow(True)\n",
    "ax.xaxis.grid(color='gray', alpha=0.5, linestyle='-')\n",
    "ax.yaxis.grid(color='gray', alpha=0.5, linestyle='-')\n",
    "\n",
    "ax.set_xlabel('$z$', fontsize=18)\n",
    "ax.set_ylabel(r'$ X_e$', fontsize=18)\n",
    "\n",
    "# ax.legend(fontsize=14)\n",
    "\n",
    "fig.savefig('/Users/yaronetokayer/Yale Drive/Classes/PHYS 600/phys600 hw/phys600 hw 4/x_e_plot.png',\n",
    "           dpi=300, bbox_inches='tight')"
   ]
  },
  {
   "cell_type": "markdown",
   "id": "9d7f272e-7f7b-469a-abb8-cc52f1794bb7",
   "metadata": {},
   "source": [
    "## 1.4: Age of the universe"
   ]
  },
  {
   "cell_type": "code",
   "execution_count": 9,
   "id": "010ab2dd-0cf0-4a79-a2cc-6bc73e76fe14",
   "metadata": {},
   "outputs": [],
   "source": [
    "h_0 = 70 * u.km / u.s / u.Mpc"
   ]
  },
  {
   "cell_type": "code",
   "execution_count": 10,
   "id": "3290746b-4127-4f56-8719-298f30beef2c",
   "metadata": {},
   "outputs": [
    {
     "data": {
      "text/latex": [
       "$208.21491 \\; \\mathrm{kyr}$"
      ],
      "text/plain": [
       "<Quantity 208.21490618 kyr>"
      ]
     },
     "execution_count": 10,
     "metadata": {},
     "output_type": "execute_result"
    }
   ],
   "source": [
    "((1 / h_0) * (2/3) * (1 / (1 + x_e_to_z(0.1)))**(3/2)).to(u.kyr)"
   ]
  },
  {
   "cell_type": "markdown",
   "id": "86c3ba97-59ab-4e59-b0cc-a8d4254cd58c",
   "metadata": {},
   "source": [
    "## 1.5: $z$ at decoupling"
   ]
  },
  {
   "cell_type": "markdown",
   "id": "2b26ba1f-cae9-4e46-8da0-bca90c375c6e",
   "metadata": {},
   "source": [
    "Evaluate the target value for $X_e(z)(1+z)^{3/2}$ (see write-up)"
   ]
  },
  {
   "cell_type": "code",
   "execution_count": 11,
   "id": "1b87eae9-d59b-41ba-9534-4165c90e0a2d",
   "metadata": {},
   "outputs": [],
   "source": [
    "# Constants\n",
    "Om0 = 0.3; sigma_T = 2e-3 * u.MeV**-2"
   ]
  },
  {
   "cell_type": "code",
   "execution_count": 12,
   "id": "466e5130-9540-464d-a2f3-f20d33f65045",
   "metadata": {},
   "outputs": [],
   "source": [
    "# Need to convert h_0 to natural units\n",
    "h_0_nat = h_0 * u.GeV * 6.5821e-25 * u.s"
   ]
  },
  {
   "cell_type": "code",
   "execution_count": 13,
   "id": "4e365a57-0c3b-4524-ac51-d9f2bdec606f",
   "metadata": {},
   "outputs": [
    {
     "data": {
      "text/latex": [
       "$215.59192 \\; \\mathrm{}$"
      ],
      "text/plain": [
       "<Quantity 215.59192399>"
      ]
     },
     "execution_count": 13,
     "metadata": {},
     "output_type": "execute_result"
    }
   ],
   "source": [
    "target = (h_0_nat * np.pi**2 * np.sqrt(Om0) / (2 * eta * zeta(3) * sigma_T * Tcmb0**3)).to(u.dimensionless_unscaled)\n",
    "target"
   ]
  },
  {
   "cell_type": "markdown",
   "id": "0a32f54b-a00b-4207-ab46-084a0607810c",
   "metadata": {},
   "source": [
    "Use a bisection method to solve for $z$:"
   ]
  },
  {
   "cell_type": "code",
   "execution_count": 14,
   "id": "2c4c6ca0-1902-4f0c-80db-ab3880fb53d7",
   "metadata": {},
   "outputs": [
    {
     "data": {
      "text/plain": [
       "1113.8222924259026"
      ]
     },
     "execution_count": 14,
     "metadata": {},
     "output_type": "execute_result"
    }
   ],
   "source": [
    "tolerance=1e-6\n",
    "\n",
    "# Initialize the search interval for z\n",
    "z_low, z_high = 1e2, 1e4\n",
    "\n",
    "# Perform the bisection search\n",
    "while z_high - z_low > tolerance:\n",
    "    z_dec = (z_low + z_high) / 2\n",
    "    x_e_mid = x_e(z_dec) * (1 + z_dec)**(3/2)\n",
    "    if x_e_mid > target:\n",
    "        z_high = z_dec\n",
    "    else:\n",
    "        z_low = z_dec\n",
    "\n",
    "# The bisection method has converged; return the redshift\n",
    "z_dec"
   ]
  },
  {
   "cell_type": "markdown",
   "id": "d084b9f8-e9ba-4d9e-ab15-883dc5daa66f",
   "metadata": {},
   "source": [
    "The age of the universe at this redshift:"
   ]
  },
  {
   "cell_type": "code",
   "execution_count": 15,
   "id": "25b75dac-cba1-4fc9-9928-0101bd718c15",
   "metadata": {},
   "outputs": [
    {
     "data": {
      "text/latex": [
       "$250.17782 \\; \\mathrm{kyr}$"
      ],
      "text/plain": [
       "<Quantity 250.17782492 kyr>"
      ]
     },
     "execution_count": 15,
     "metadata": {},
     "output_type": "execute_result"
    }
   ],
   "source": [
    "((1 / h_0) * (2/3) * (1 / (1 + z_dec))**(3/2)).to(u.kyr)"
   ]
  },
  {
   "cell_type": "markdown",
   "id": "110b1a3e-1d70-4fb9-b6bf-74dea9f0f311",
   "metadata": {},
   "source": [
    "The free electron fraction at this redshift:"
   ]
  },
  {
   "cell_type": "code",
   "execution_count": 16,
   "id": "4eee2023-83f4-49b1-be60-3de6a2dc0392",
   "metadata": {},
   "outputs": [
    {
     "data": {
      "text/plain": [
       "0.005791939562935705"
      ]
     },
     "execution_count": 16,
     "metadata": {},
     "output_type": "execute_result"
    }
   ],
   "source": [
    "x_e(z_dec)"
   ]
  },
  {
   "cell_type": "markdown",
   "id": "6b031542-cb32-4069-9557-5ba88fd664de",
   "metadata": {},
   "source": [
    "# Problem 2"
   ]
  },
  {
   "cell_type": "markdown",
   "id": "4b97c722-3db9-4eed-8963-8c50392b0676",
   "metadata": {},
   "source": [
    "Assuming the \"freezeout\" temperature is 0.8 MeV, estimate the freeze out abundance of neutrons ($X_n$).  We do this using our formula for $X_n$:"
   ]
  },
  {
   "cell_type": "code",
   "execution_count": 17,
   "id": "30cab8dd-b457-4bd6-951a-08494f65db74",
   "metadata": {},
   "outputs": [],
   "source": [
    "def x_n(t, q=1.3 * u.MeV):\n",
    "    '''\n",
    "    Function to compute the neutron fraction as a function of temperature\n",
    "\n",
    "    Inputs:\n",
    "    t - Temperatute (astropy natural (energy) units)\n",
    "    q - Neutron mass minus the proton mass (astropy natural (energy) units)\n",
    "\n",
    "    Returns:\n",
    "    x_n - neutron fraction at that temperature\n",
    "    '''\n",
    "\n",
    "    ratio = (q / t).to(u.dimensionless_unscaled).value\n",
    "\n",
    "    x_n = np.exp( -ratio ) / (1 + np.exp( -ratio ) )\n",
    "\n",
    "    return x_n"
   ]
  },
  {
   "cell_type": "code",
   "execution_count": 18,
   "id": "b0daf437-b6be-4996-944a-a5067014ccaa",
   "metadata": {},
   "outputs": [
    {
     "data": {
      "text/plain": [
       "0.1645164628965632"
      ]
     },
     "execution_count": 18,
     "metadata": {},
     "output_type": "execute_result"
    }
   ],
   "source": [
    "x_n_fo = x_n(0.8 * u.MeV)\n",
    "x_n_fo"
   ]
  },
  {
   "cell_type": "markdown",
   "id": "2e74a84e-b84d-4310-810b-2296103ac539",
   "metadata": {},
   "source": [
    "Mass fraction of helium-4 at this abundance:"
   ]
  },
  {
   "cell_type": "code",
   "execution_count": 19,
   "id": "7652e7b4-a097-4a6e-885d-991ec6df5546",
   "metadata": {},
   "outputs": [
    {
     "data": {
      "text/plain": [
       "0.3938233504083882"
      ]
     },
     "execution_count": 19,
     "metadata": {},
     "output_type": "execute_result"
    }
   ],
   "source": [
    "2 * x_n_fo / ( 1 - x_n_fo )"
   ]
  },
  {
   "cell_type": "markdown",
   "id": "66732fb3-ab02-41eb-80a8-01633a99059a",
   "metadata": {},
   "source": [
    "Now for $Q = 2.6$ MeV:"
   ]
  },
  {
   "cell_type": "code",
   "execution_count": 20,
   "id": "46f467ca-131b-4c6c-93dd-a07a4790b503",
   "metadata": {},
   "outputs": [
    {
     "data": {
      "text/plain": [
       "(0.037326887344129464, 0.07754841566344403)"
      ]
     },
     "execution_count": 20,
     "metadata": {},
     "output_type": "execute_result"
    }
   ],
   "source": [
    "x_n(0.8 * u.MeV, q=2.6 * u.MeV), 2 * x_n(0.8 * u.MeV, q=2.6 * u.MeV) / ( 1 - x_n(0.8 * u.MeV, q=2.6 * u.MeV) )"
   ]
  },
  {
   "cell_type": "markdown",
   "id": "f590cd02-53aa-4c8a-b174-0a6580365e3f",
   "metadata": {},
   "source": [
    "# Problem 3"
   ]
  },
  {
   "cell_type": "markdown",
   "id": "e8286201-1e15-4891-8782-34323eac7dce",
   "metadata": {},
   "source": [
    "## Plot $Y_\\mathrm{eq}$ and $Y$"
   ]
  },
  {
   "cell_type": "markdown",
   "id": "4b4673e1-aebc-4b42-971f-eef6574a6fd9",
   "metadata": {},
   "source": [
    "Functions:"
   ]
  },
  {
   "cell_type": "code",
   "execution_count": 21,
   "id": "1f21b427-3cbf-410a-a6ee-5713f5d342f7",
   "metadata": {},
   "outputs": [],
   "source": [
    "def y_eq(x):\n",
    "    '''\n",
    "    Function to calculate Y_eq as a function of dimensionless time x=n/T^3\n",
    "\n",
    "    Inputs:\n",
    "    x - A single value or a NumPy array of dimensionless time values\n",
    "\n",
    "    Returns:\n",
    "    y_eq - A single value or a NumPy array of Y_eq values\n",
    "    '''\n",
    "    \n",
    "    # Ensure that x is a NumPy array for vectorized calculations\n",
    "    x = np.asarray(x)\n",
    "    \n",
    "    xi = np.linspace(0, 500, 10000)  # xi values to integrate over\n",
    "\n",
    "    if x.size == 1:  # Scalar input\n",
    "        integrand = xi**2 / (np.exp(np.sqrt(xi**2 + x**2)) + 1)\n",
    "        y_eq_value = (1 / (2 * np.pi**2)) * np.trapz(integrand, x=xi)\n",
    "        return y_eq_value\n",
    "        \n",
    "    else:  # Array input\n",
    "        # Expand dimensions of x and xi to allow broadcasting\n",
    "        x_expanded = x[:, np.newaxis]\n",
    "        xi_expanded = xi[np.newaxis, :]\n",
    "\n",
    "        integrand = xi_expanded**2 / (np.exp(np.sqrt(xi_expanded**2 + x_expanded**2)) + 1)\n",
    "        y_eq_values = (1 / (2 * np.pi**2)) * np.trapz(integrand, x=xi, axis=1)\n",
    "\n",
    "        return y_eq_values\n"
   ]
  },
  {
   "cell_type": "code",
   "execution_count": 22,
   "id": "fae05176-620f-4375-a982-3220c78f6fa0",
   "metadata": {},
   "outputs": [],
   "source": [
    "def y(x, lam=1e-6, x0=0.01, y0=1e-20):\n",
    "    '''\n",
    "    Function to compute Y for freeze in DM\n",
    "\n",
    "    Inputs:\n",
    "    x - A single value or a NumPy array of dimensionless time values\n",
    "    lam - Lambda parameter (default: 1e-6)\n",
    "    x0 - Initial value of x (default: 0.01)\n",
    "    y0 - Initial value of Y (default: 1e-20)\n",
    "\n",
    "    Returns:\n",
    "    y - A single value or a NumPy array of Y values\n",
    "    '''\n",
    "    \n",
    "    # Ensure that x is a NumPy array for vectorized calculations\n",
    "    x = np.asarray(x)\n",
    "    \n",
    "    if x.size == 1:\n",
    "        x_array = np.linspace(x0, x, 1000)\n",
    "        h = x_array / (x_array + 2)\n",
    "        integrand = lam * x_array * h * y_eq(x_array)\n",
    "        delta_y = np.trapz(integrand, x=x_array)\n",
    "        return y0 + delta_y\n",
    "    else:\n",
    "        y_values = np.empty(len(x))\n",
    "        for i, x_value in tqdm(enumerate(x), total=len(x)):\n",
    "            x_array = np.linspace(x0, x_value, 1000)\n",
    "            h = x_array / (x_array + 2)\n",
    "            integrand = lam * x_array * h * y_eq(x_array)\n",
    "            delta_y = np.trapz(integrand, x=x_array)\n",
    "            y_value = y0 + delta_y\n",
    "            y_values[i] = y_value\n",
    "        return np.array(y_values)"
   ]
  },
  {
   "cell_type": "markdown",
   "id": "34c3740f-83f3-417c-9e44-0089e1d2238f",
   "metadata": {},
   "source": [
    "Compute:"
   ]
  },
  {
   "cell_type": "code",
   "execution_count": 23,
   "id": "f882dd98-c6b9-48ed-bc2f-0f196bff0781",
   "metadata": {},
   "outputs": [
    {
     "name": "stderr",
     "output_type": "stream",
     "text": [
      "100%|███████████████████████████████████████| 1000/1000 [01:09<00:00, 14.34it/s]\n",
      "100%|███████████████████████████████████████| 1000/1000 [01:10<00:00, 14.24it/s]\n",
      "100%|███████████████████████████████████████| 1000/1000 [01:08<00:00, 14.66it/s]\n"
     ]
    }
   ],
   "source": [
    "x0 = 0.01\n",
    "xf = 100\n",
    "x = np.geomspace(x0, xf, 1000)\n",
    "lams = [1e-6, 1e-8, 1e-10]\n",
    "ys = []\n",
    "\n",
    "for lam in lams:\n",
    "    ys.append( y(x, lam=lam, x0=x0) )"
   ]
  },
  {
   "cell_type": "code",
   "execution_count": 24,
   "id": "61ffcac0-9aac-44dd-a9c3-ec31c3f48e83",
   "metadata": {},
   "outputs": [],
   "source": [
    "y_eq_plot = y_eq(x)"
   ]
  },
  {
   "cell_type": "markdown",
   "id": "af8293a4-0e44-4258-a879-93eb150d1970",
   "metadata": {},
   "source": [
    "Truncate arrays for plotting:"
   ]
  },
  {
   "cell_type": "code",
   "execution_count": 25,
   "id": "e8f11c8b-a58b-4dd9-86f3-df4f9d0adee3",
   "metadata": {},
   "outputs": [],
   "source": [
    "mask = x >= 0.1"
   ]
  },
  {
   "cell_type": "code",
   "execution_count": 26,
   "id": "3061d69c-6dcb-4e95-816b-acc3128bbcaf",
   "metadata": {},
   "outputs": [
    {
     "data": {
      "image/png": "[encoded data removed]",
      "text/plain": [
       "<Figure size 800x600 with 1 Axes>"
      ]
     },
     "metadata": {},
     "output_type": "display_data"
    }
   ],
   "source": [
    "fig, ax = plt.subplots(1, 1, figsize=(8,6))\n",
    "\n",
    "for i, y in enumerate(ys):\n",
    "    ax.plot(x[mask], y[mask], color='black', \n",
    "            label=r'$\\lambda_1$ = ' + str(lams[i]), alpha = 1 - i / len(ys))\n",
    "\n",
    "ax.plot(x[mask], y_eq_plot[mask], color='black', ls='--', label=r'$Y_\\mathrm{eq}$')\n",
    "\n",
    "ax.set_axisbelow(True)\n",
    "ax.xaxis.grid(color='gray', alpha=0.5, linestyle='-')\n",
    "ax.yaxis.grid(color='gray', alpha=0.5, linestyle='-')\n",
    "\n",
    "ax.set_xscale('log')\n",
    "ax.set_yscale('log')\n",
    "\n",
    "ax.set_ylim([1e-12,1])\n",
    "\n",
    "ax.set_xlabel(r'$\\log x$', fontsize=18)\n",
    "ax.set_ylabel(r'$Y=n/T^3$', fontsize=18)\n",
    "\n",
    "ax.legend(fontsize=14)\n",
    "\n",
    "fig.savefig('/Users/yaronetokayer/Yale Drive/Classes/PHYS 600/phys600 hw/phys600 hw 4/y_plot.png',\n",
    "           dpi=300, bbox_inches='tight')"
   ]
  }
 ],
 "metadata": {
  "kernelspec": {
   "display_name": "phys600_py3",
   "language": "python",
   "name": "phys600_py3"
  },
  "language_info": {
   "codemirror_mode": {
    "name": "ipython",
    "version": 3
   },
   "file_extension": ".py",
   "mimetype": "text/x-python",
   "name": "python",
   "nbconvert_exporter": "python",
   "pygments_lexer": "ipython3",
   "version": "3.11.5"
  }
 },
 "nbformat": 4,
 "nbformat_minor": 5
}
