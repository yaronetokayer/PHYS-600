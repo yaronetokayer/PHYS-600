{
 "cells": [
  {
   "cell_type": "markdown",
   "id": "f0379d1f-39da-440a-a20f-dd5a2fa71ea2",
   "metadata": {},
   "source": [
    "# Phys 600: HW 4\n",
    "Yarone Tokayer\n",
    "\n",
    "October 29, 2023"
   ]
  },
  {
   "cell_type": "code",
   "execution_count": 1,
   "id": "f28af56c-ad75-44d4-b813-efd9d8937c2d",
   "metadata": {},
   "outputs": [],
   "source": [
    "# Install packages\n",
    "\n",
    "#from astropy.cosmology import FlatLambdaCDM\n",
    "from astropy import units as u\n",
    "\n",
    "import numpy as np\n",
    "from scipy.special import zeta\n",
    "\n",
    "import matplotlib.pyplot as plt"
   ]
  },
  {
   "cell_type": "code",
   "execution_count": 2,
   "id": "59fa37f7-642c-4322-a226-25edbfc14867",
   "metadata": {},
   "outputs": [],
   "source": [
    "plt.rcParams.update({\n",
    "    \"text.usetex\": True,\n",
    "    \"font.family\": \"Helvetica\"\n",
    "})"
   ]
  },
  {
   "cell_type": "markdown",
   "id": "70c9c66e-ab88-43ea-9957-2dde8e5a98ae",
   "metadata": {},
   "source": [
    "# Problem 1"
   ]
  },
  {
   "cell_type": "markdown",
   "id": "dfbade10-1dee-4d4f-b1b6-720f42591aa0",
   "metadata": {},
   "source": [
    "## 1.2: Figure for $X_e(z)$"
   ]
  },
  {
   "cell_type": "code",
   "execution_count": 3,
   "id": "78cb6958-cf78-4ecb-8083-270ce6b1468c",
   "metadata": {},
   "outputs": [],
   "source": [
    "# Constants\n",
    "\n",
    "Tcmb0 = 0.235 * u.meV # CMB temperature today\n",
    "eta = 6e-10 # Baryons-to-photon fraction (Baumann)\n",
    "E_I = 13.6 * u.eV # Ionization energy of hydrogen \n",
    "m_e = 0.510998950 * u.MeV # Mass of electron (Wikipedia)"
   ]
  },
  {
   "cell_type": "code",
   "execution_count": 23,
   "id": "75127d9f-eb8c-4456-88ef-912a9060b97f",
   "metadata": {},
   "outputs": [],
   "source": [
    "def x_e(z):\n",
    "    '''\n",
    "    Function to compute the electron fraction as a function of redshift\n",
    "\n",
    "    Inputs:\n",
    "    z - Redshift\n",
    "\n",
    "    Returns:\n",
    "    x_e - free electron fraction at that redshift\n",
    "    '''\n",
    "\n",
    "    T = Tcmb0 * ( 1 + z )\n",
    "\n",
    "    a = (2 * zeta(3) / np.pi ** 2) * eta * ((2 * np.pi * T / m_e) ** (3/2)) * np.exp(E_I / T)\n",
    "\n",
    "    x_e = ((-1 + np.sqrt(1 + 4*a)) / (2 * a)).to(u.dimensionless_unscaled).value\n",
    "\n",
    "    return x_e"
   ]
  },
  {
   "cell_type": "markdown",
   "id": "93c1f8bb-4ee3-4d60-95fc-c49531d29573",
   "metadata": {},
   "source": [
    "## 1.3: Invert to find $z(X_e)$"
   ]
  },
  {
   "cell_type": "code",
   "execution_count": 40,
   "id": "1dd398c1-247e-4dcf-bed2-2357447e791d",
   "metadata": {},
   "outputs": [],
   "source": [
    "def x_e_to_z(x_e_target, tolerance=1e-6):\n",
    "    '''\n",
    "    Function to find redshift (z) given the free electron fraction (x_e) using a bisection method.\n",
    "\n",
    "    Inputs:\n",
    "    x_e_target - Free electron fraction\n",
    "    tolerance - Tolerance for the bisection method convergence\n",
    "\n",
    "    Returns:\n",
    "    z - Redshift corresponding to the given lookback time\n",
    "    '''\n",
    "\n",
    "    # Initialize the search interval for z\n",
    "    z_low, z_high = 1e2, 1e4\n",
    "\n",
    "    # Perform the bisection search\n",
    "    while z_high - z_low > tolerance:\n",
    "        z_mid = (z_low + z_high) / 2\n",
    "        x_e_mid = x_e(z_mid)\n",
    "        if x_e_mid > x_e_target:\n",
    "            z_high = z_mid\n",
    "        else:\n",
    "            z_low = z_mid\n",
    "\n",
    "    # The bisection method has converged; return the redshift\n",
    "    return z_mid"
   ]
  },
  {
   "cell_type": "markdown",
   "id": "3756a0fa-8ee8-4ab5-bb10-cae8adb4c602",
   "metadata": {},
   "source": [
    "Our two points of interest:"
   ]
  },
  {
   "cell_type": "code",
   "execution_count": 45,
   "id": "508c8c57-09f6-4e07-ba9a-72e865f798d7",
   "metadata": {},
   "outputs": [
    {
     "data": {
      "text/plain": [
       "(1258.9799694891553, 1377.2434625017922)"
      ]
     },
     "execution_count": 45,
     "metadata": {},
     "output_type": "execute_result"
    }
   ],
   "source": [
    "x_e_to_z(0.1), x_e_to_z(0.5)"
   ]
  },
  {
   "cell_type": "markdown",
   "id": "885f1c4e-f1ba-4598-9723-6436c6a4f188",
   "metadata": {},
   "source": [
    "Now we can plot everything:"
   ]
  },
  {
   "cell_type": "code",
   "execution_count": 38,
   "id": "d7328d8b-dcfc-4d0d-9d2d-8229b2b782df",
   "metadata": {},
   "outputs": [],
   "source": [
    "# Redshift range to calculate\n",
    "\n",
    "z = np.linspace(1000, 2000, 1000)"
   ]
  },
  {
   "cell_type": "code",
   "execution_count": 46,
   "id": "a27e2a2f-45fd-4558-ae74-3f10643ac44e",
   "metadata": {},
   "outputs": [
    {
     "data": {
      "image/png": "[encoded data removed]",
      "text/plain": [
       "<Figure size 700x600 with 1 Axes>"
      ]
     },
     "metadata": {},
     "output_type": "display_data"
    }
   ],
   "source": [
    "fig, ax = plt.subplots(1, 1, figsize=(7,6))\n",
    "\n",
    "ax.plot(z, x_e(z), color='black')\n",
    "ax.axhline(y=0.5, color='red', ls='--')\n",
    "ax.axhline(y=0.1, color='blue', ls='--')\n",
    "ax.axvline(x=x_e_to_z(0.5), color='red', ls='--')\n",
    "ax.axvline(x=x_e_to_z(0.1), color='blue', ls='--')\n",
    "\n",
    "ax.set_axisbelow(True)\n",
    "ax.xaxis.grid(color='gray', alpha=0.5, linestyle='-')\n",
    "ax.yaxis.grid(color='gray', alpha=0.5, linestyle='-')\n",
    "\n",
    "ax.set_xlabel('$z$', fontsize=18)\n",
    "ax.set_ylabel(r'$ X_e$', fontsize=18)\n",
    "\n",
    "# ax.legend(fontsize=14)\n",
    "\n",
    "fig.savefig('/Users/yaronetokayer/Yale Drive/Classes/PHYS 600/phys600 hw/phys600 hw 4/x_e_plot.png',\n",
    "           dpi=300, bbox_inches='tight')"
   ]
  },
  {
   "cell_type": "markdown",
   "id": "9d7f272e-7f7b-469a-abb8-cc52f1794bb7",
   "metadata": {},
   "source": [
    "## 1.4: Age of the universe"
   ]
  },
  {
   "cell_type": "code",
   "execution_count": 47,
   "id": "010ab2dd-0cf0-4a79-a2cc-6bc73e76fe14",
   "metadata": {},
   "outputs": [],
   "source": [
    "h_0 = 70 * u.km / u.s / u.Mpc"
   ]
  },
  {
   "cell_type": "code",
   "execution_count": 58,
   "id": "3290746b-4127-4f56-8719-298f30beef2c",
   "metadata": {},
   "outputs": [
    {
     "data": {
      "text/latex": [
       "$208.21491 \\; \\mathrm{kyr}$"
      ],
      "text/plain": [
       "<Quantity 208.21490618 kyr>"
      ]
     },
     "execution_count": 58,
     "metadata": {},
     "output_type": "execute_result"
    }
   ],
   "source": [
    "((1 / h_0) * (2/3) * (1 / (1 + x_e_to_z(0.1)))**(3/2)).to(u.kyr)"
   ]
  },
  {
   "cell_type": "markdown",
   "id": "86c3ba97-59ab-4e59-b0cc-a8d4254cd58c",
   "metadata": {},
   "source": [
    "## 1.5: $z$ at decoupling"
   ]
  },
  {
   "cell_type": "markdown",
   "id": "2b26ba1f-cae9-4e46-8da0-bca90c375c6e",
   "metadata": {},
   "source": [
    "Evaluate the target value for $X_e(z)(1+z)^{3/2}$ (see write-up)"
   ]
  },
  {
   "cell_type": "code",
   "execution_count": 86,
   "id": "1b87eae9-d59b-41ba-9534-4165c90e0a2d",
   "metadata": {},
   "outputs": [],
   "source": [
    "# Constants\n",
    "Om0 = 0.3; sigma_T = 2e-3 * u.MeV**-2"
   ]
  },
  {
   "cell_type": "code",
   "execution_count": 83,
   "id": "466e5130-9540-464d-a2f3-f20d33f65045",
   "metadata": {},
   "outputs": [],
   "source": [
    "# Need to convert h_0 to natural units\n",
    "h_0_nat = h_0 * u.GeV * 6.5821e-25 * u.s"
   ]
  },
  {
   "cell_type": "code",
   "execution_count": 84,
   "id": "4e365a57-0c3b-4524-ac51-d9f2bdec606f",
   "metadata": {},
   "outputs": [
    {
     "data": {
      "text/latex": [
       "$215.59192 \\; \\mathrm{}$"
      ],
      "text/plain": [
       "<Quantity 215.59192399>"
      ]
     },
     "execution_count": 84,
     "metadata": {},
     "output_type": "execute_result"
    }
   ],
   "source": [
    "target = (h_0_nat * np.pi**2 * np.sqrt(Om0) / (2 * eta * zeta(3) * sigma_T * Tcmb0**3)).to(u.dimensionless_unscaled)\n",
    "target"
   ]
  },
  {
   "cell_type": "markdown",
   "id": "0a32f54b-a00b-4207-ab46-084a0607810c",
   "metadata": {},
   "source": [
    "Use a bisection method to solve for $z$:"
   ]
  },
  {
   "cell_type": "code",
   "execution_count": 85,
   "id": "2c4c6ca0-1902-4f0c-80db-ab3880fb53d7",
   "metadata": {},
   "outputs": [
    {
     "data": {
      "text/plain": [
       "1113.8222924259026"
      ]
     },
     "execution_count": 85,
     "metadata": {},
     "output_type": "execute_result"
    }
   ],
   "source": [
    "tolerance=1e-6\n",
    "\n",
    "# Initialize the search interval for z\n",
    "z_low, z_high = 1e2, 1e4\n",
    "\n",
    "# Perform the bisection search\n",
    "while z_high - z_low > tolerance:\n",
    "    z_dec = (z_low + z_high) / 2\n",
    "    x_e_mid = x_e(z_dec) * (1 + z_dec)**(3/2)\n",
    "    if x_e_mid > target:\n",
    "        z_high = z_dec\n",
    "    else:\n",
    "        z_low = z_dec\n",
    "\n",
    "# The bisection method has converged; return the redshift\n",
    "z_dec"
   ]
  },
  {
   "cell_type": "markdown",
   "id": "d084b9f8-e9ba-4d9e-ab15-883dc5daa66f",
   "metadata": {},
   "source": [
    "The age of the universe at this redshift:"
   ]
  },
  {
   "cell_type": "code",
   "execution_count": 87,
   "id": "25b75dac-cba1-4fc9-9928-0101bd718c15",
   "metadata": {},
   "outputs": [
    {
     "data": {
      "text/latex": [
       "$250.17782 \\; \\mathrm{kyr}$"
      ],
      "text/plain": [
       "<Quantity 250.17782492 kyr>"
      ]
     },
     "execution_count": 87,
     "metadata": {},
     "output_type": "execute_result"
    }
   ],
   "source": [
    "((1 / h_0) * (2/3) * (1 / (1 + z_dec))**(3/2)).to(u.kyr)"
   ]
  },
  {
   "cell_type": "markdown",
   "id": "110b1a3e-1d70-4fb9-b6bf-74dea9f0f311",
   "metadata": {},
   "source": [
    "The free electron fraction at this redshift:"
   ]
  },
  {
   "cell_type": "code",
   "execution_count": 88,
   "id": "4eee2023-83f4-49b1-be60-3de6a2dc0392",
   "metadata": {},
   "outputs": [
    {
     "data": {
      "text/plain": [
       "0.005791939562935705"
      ]
     },
     "execution_count": 88,
     "metadata": {},
     "output_type": "execute_result"
    }
   ],
   "source": [
    "x_e(z_dec)"
   ]
  },
  {
   "cell_type": "markdown",
   "id": "6b031542-cb32-4069-9557-5ba88fd664de",
   "metadata": {},
   "source": [
    "### Density Parameters\n",
    "Check our work for $\\Omega_\\mathrm{x}(z)$ using Astropy"
   ]
  },
  {
   "cell_type": "code",
   "execution_count": 6,
   "id": "30cab8dd-b457-4bd6-951a-08494f65db74",
   "metadata": {},
   "outputs": [
    {
     "data": {
      "text/plain": [
       "(0.5912408759124087, 0.4087591240875912)"
      ]
     },
     "execution_count": 6,
     "metadata": {},
     "output_type": "execute_result"
    }
   ],
   "source": [
    "z = 0.5\n",
    "\n",
    "cosmo.Om(z), cosmo.Ode(z)"
   ]
  },
  {
   "cell_type": "markdown",
   "id": "f590cd02-53aa-4c8a-b174-0a6580365e3f",
   "metadata": {},
   "source": [
    "Agrees!"
   ]
  },
  {
   "cell_type": "markdown",
   "id": "e8286201-1e15-4891-8782-34323eac7dce",
   "metadata": {},
   "source": [
    "### Luminosity and Angular Diameter Distances"
   ]
  },
  {
   "cell_type": "code",
   "execution_count": 7,
   "id": "fad653b9-2519-47ae-abab-00147c85dab4",
   "metadata": {},
   "outputs": [],
   "source": [
    "res = 100 # Resolution of plot\n",
    "z_axis = np.linspace(0, 10, res)\n",
    "\n",
    "d_l = np.zeros(len(z_axis))\n",
    "d_a = np.zeros(len(z_axis))\n",
    "\n",
    "d_l_eds = np.zeros(len(z_axis))\n",
    "d_a_eds = np.zeros(len(z_axis))"
   ]
  },
  {
   "cell_type": "code",
   "execution_count": 8,
   "id": "3061d69c-6dcb-4e95-816b-acc3128bbcaf",
   "metadata": {},
   "outputs": [],
   "source": [
    "# Calculate d_l and d_a for the default cosmology\n",
    "\n",
    "for i in range(res):\n",
    "    z = z_axis[i]\n",
    "    Ode0 = 0.7\n",
    "\n",
    "    # Calculate comoving distance from z=0 to z\n",
    "    z_array = np.linspace(0, z, 1000)\n",
    "    integrand = 1 / ( np.sqrt(Om0 * (1 + z_array)**3 + Ode0) )\n",
    "    d_m = np.trapz(integrand, x=z_array)\n",
    "\n",
    "    # Convert to d_l and d_a\n",
    "    d_l[i] = (1 + z) * d_m\n",
    "    d_a[i] = d_m / (1 + z)"
   ]
  },
  {
   "cell_type": "code",
   "execution_count": 9,
   "id": "86ab6a96-377d-413e-a6ad-352f8cd095b6",
   "metadata": {},
   "outputs": [],
   "source": [
    "# Calculate d_l and d_a for a matter only universe (EdS)\n",
    "\n",
    "for i in range(res):\n",
    "    z = z_axis[i]\n",
    "\n",
    "    # Calculate comoving distance from z=0 to z\n",
    "    z_array = np.linspace(0, z, 1000)\n",
    "    integrand = 1 / ( np.sqrt((1 + z_array)**3) ) # Om0=1, Omde0=0\n",
    "    d_m = np.trapz(integrand, x=z_array)\n",
    "\n",
    "    # Convert to d_l and d_a\n",
    "    d_l_eds[i] = (1 + z) * d_m\n",
    "    d_a_eds[i] = d_m / (1 + z)"
   ]
  },
  {
   "cell_type": "code",
   "execution_count": 10,
   "id": "6d65121d-1a69-4fe1-95e0-9714d1487fc1",
   "metadata": {},
   "outputs": [
    {
     "data": {
      "image/png": "[encoded data removed]",
      "text/plain": [
       "<Figure size 700x600 with 1 Axes>"
      ]
     },
     "metadata": {},
     "output_type": "display_data"
    }
   ],
   "source": [
    "fig, ax = plt.subplots(1, 1, figsize=(7,6))\n",
    "\n",
    "ax.plot(z_axis, d_l, label='default')\n",
    "ax.plot(z_axis, d_l_eds, label='EdS')\n",
    "\n",
    "ax.set_axisbelow(True)\n",
    "ax.xaxis.grid(color='gray', alpha=0.5, linestyle='-')\n",
    "ax.yaxis.grid(color='gray', alpha=0.5, linestyle='-')\n",
    "\n",
    "ax.set_xlabel('$z$', fontsize=18)\n",
    "ax.set_ylabel(r'$ H_0\\ c^{-1}\\ d_\\mathrm{L}$', fontsize=18)\n",
    "\n",
    "ax.legend(fontsize=14)\n",
    "\n",
    "fig.savefig('/Users/yaronetokayer/Yale Drive/Classes/PHYS 600/phys600 hw/phys600 hw 3/d_l_plot.png',\n",
    "           dpi=300, bbox_inches='tight')"
   ]
  },
  {
   "cell_type": "code",
   "execution_count": 11,
   "id": "fc50e159-2c4d-4616-a811-56642960aebe",
   "metadata": {},
   "outputs": [
    {
     "data": {
      "image/png": "[encoded data removed]",
      "text/plain": [
       "<Figure size 700x600 with 1 Axes>"
      ]
     },
     "metadata": {},
     "output_type": "display_data"
    }
   ],
   "source": [
    "fig, ax = plt.subplots(1, 1, figsize=(7,6))\n",
    "\n",
    "ax.plot(z_axis, d_a, label='default')\n",
    "ax.plot(z_axis, d_a_eds, label='EdS')\n",
    "\n",
    "ax.set_axisbelow(True)\n",
    "ax.xaxis.grid(color='gray', alpha=0.5, linestyle='-')\n",
    "ax.yaxis.grid(color='gray', alpha=0.5, linestyle='-')\n",
    "\n",
    "ax.set_xlabel('$z$', fontsize=18)\n",
    "ax.set_ylabel(r'$ H_0\\ c^{-1}\\ d_\\mathrm{A}$', fontsize=18)\n",
    "\n",
    "ax.legend(fontsize=14)\n",
    "\n",
    "fig.savefig('/Users/yaronetokayer/Yale Drive/Classes/PHYS 600/phys600 hw/phys600 hw 3/d_a_plot.png',\n",
    "           dpi=300, bbox_inches='tight')"
   ]
  },
  {
   "cell_type": "markdown",
   "id": "79587027-0340-4757-8834-8d9997d64cde",
   "metadata": {},
   "source": [
    "### Looking Back"
   ]
  },
  {
   "cell_type": "code",
   "execution_count": 12,
   "id": "80a57617-4ffa-4a18-99bd-800e3bba40b5",
   "metadata": {},
   "outputs": [],
   "source": [
    "def t_l(z, h, Om0, Ode0):\n",
    "    '''\n",
    "    Function to compute the lookback time as a function of z\n",
    "\n",
    "    Inputs:\n",
    "    z - redshift\n",
    "    h - H0/(100 km/s/Mpc)\n",
    "    Om0 - Fractional matter density at z=0\n",
    "    Ode0 - Fractional dark energy density at z=0\n",
    "\n",
    "    Returns:\n",
    "    t_l - lookback time in years\n",
    "    '''\n",
    "\n",
    "    H0 = h * 100 * u.km / u.s / u.Mpc\n",
    "\n",
    "    z_array = np.linspace(0, z, 1000)\n",
    "\n",
    "    integrand = 1 / H0 / ( 1 + z_array ) / np.sqrt(Om0 * ( 1 + z_array )**3 + Ode0)\n",
    "    return np.trapz(integrand, x=z_array).to(u.year)"
   ]
  },
  {
   "cell_type": "code",
   "execution_count": 13,
   "id": "0fb989b9-63a7-4fbd-9b8e-15207b375828",
   "metadata": {},
   "outputs": [],
   "source": [
    "def t_l_to_z(t_l_target, h, Om0, Ode0, tolerance=1e-6):\n",
    "    '''\n",
    "    Function to find redshift (z) given the lookback time (t_l) using a bisection method.\n",
    "\n",
    "    Inputs:\n",
    "    t_l_target - Lookback time (astropy units expected)\n",
    "    h - H0/(100 km/s/Mpc)\n",
    "    Om0 - Fractional matter density at z=0\n",
    "    Ode0 - Fractional dark energy density at z=0\n",
    "    tolerance - Tolerance for the bisection method convergence\n",
    "\n",
    "    Returns:\n",
    "    z - Redshift corresponding to the given lookback time\n",
    "    '''\n",
    "\n",
    "    # Initialize the search interval for z\n",
    "    z_low, z_high = 0.0, 1e3\n",
    "\n",
    "    # Perform the bisection search\n",
    "    while z_high - z_low > tolerance:\n",
    "        z_mid = (z_low + z_high) / 2\n",
    "        t_mid = t_l(z_mid, h, Om0, Ode0)\n",
    "        if t_mid > t_l_target:\n",
    "            z_high = z_mid\n",
    "        else:\n",
    "            z_low = z_mid\n",
    "\n",
    "    # The bisection method has converged; return the redshift\n",
    "    return z_mid"
   ]
  },
  {
   "cell_type": "code",
   "execution_count": 14,
   "id": "1f0222b5-a849-4830-8107-33e577244527",
   "metadata": {},
   "outputs": [
    {
     "data": {
      "text/plain": [
       "1.8555903807282448"
      ]
     },
     "execution_count": 14,
     "metadata": {},
     "output_type": "execute_result"
    }
   ],
   "source": [
    "# Compute z for t_l = 1e10 years\n",
    "\n",
    "h = 0.7\n",
    "Om0 = 0.3\n",
    "Ode0 = 0.7\n",
    "t_l_target = 1e10 * u.year\n",
    "\n",
    "t_l_to_z(t_l_target, h, Om0, Ode0)"
   ]
  },
  {
   "cell_type": "markdown",
   "id": "5f207957-d828-484c-bbf7-2847375a67d4",
   "metadata": {},
   "source": [
    "Check our work for $t_\\mathrm{t}$ using Astropy"
   ]
  },
  {
   "cell_type": "code",
   "execution_count": 15,
   "id": "82c7860b-fcdb-45ad-9ecd-b2b2da46872f",
   "metadata": {},
   "outputs": [
    {
     "data": {
      "text/latex": [
       "$9.9999956 \\; \\mathrm{Gyr}$"
      ],
      "text/plain": [
       "<Quantity 9.99999559 Gyr>"
      ]
     },
     "execution_count": 15,
     "metadata": {},
     "output_type": "execute_result"
    }
   ],
   "source": [
    "z=1.8555903807282448\n",
    "cosmo.lookback_time(z)"
   ]
  },
  {
   "cell_type": "markdown",
   "id": "794a9903-cdce-4ce4-811e-7b833d36badc",
   "metadata": {},
   "source": [
    "We are correct to 3 significant figures, as required."
   ]
  },
  {
   "cell_type": "markdown",
   "id": "5e86470a-1497-4a98-b44a-8f2e562d96d9",
   "metadata": {},
   "source": [
    "## Problem 3"
   ]
  },
  {
   "cell_type": "markdown",
   "id": "3d1f4f7b-5dac-4413-8397-b6d352e5ed8e",
   "metadata": {},
   "source": [
    "To what redshift is our expansion accurate to 10%?  To answer this, we create two functions: one that computes the exact numerical integral $\\chi(z)$, and another that computes the series expansion to third order.  Then we use a bisection method to find the $z$ at which the expansion differs by 10%.  We also define a function to compute the second order approximation."
   ]
  },
  {
   "cell_type": "markdown",
   "id": "e6fc6531-baf8-45aa-8931-f8baecb64a8e",
   "metadata": {},
   "source": [
    "### Define functions"
   ]
  },
  {
   "cell_type": "code",
   "execution_count": 16,
   "id": "675368e5-d300-4523-9cb9-12d77a76bd8d",
   "metadata": {},
   "outputs": [],
   "source": [
    "def chi(z, Om0, Ode0):\n",
    "    '''\n",
    "    Function to compute the dimensionless comoving distance as a function of z\n",
    "\n",
    "    Inputs:\n",
    "    z - redshift\n",
    "    Om0 - Fractional matter density at z=0\n",
    "    Ode0 - Fractional dark energy density at z=0\n",
    "\n",
    "    Returns:\n",
    "    chi - dimensionless comoving distance (H_0 \\chi * c^-1)\n",
    "    '''\n",
    "\n",
    "    z_array = np.linspace(0, z, 1000)\n",
    "\n",
    "    integrand = 1 / np.sqrt( Om0 * ( 1 + z_array )**3 + Ode0 + (1 - Om0 - Ode0) * ( 1 + z_array )**2 )\n",
    "    return np.trapz(integrand, x=z_array)"
   ]
  },
  {
   "cell_type": "code",
   "execution_count": 22,
   "id": "304a50a1-6653-4b87-a8f6-2e7dee3ef961",
   "metadata": {},
   "outputs": [],
   "source": [
    "def chi_thirdorder(z, Om0, Ode0):\n",
    "    '''\n",
    "    Function to compute the approximate dimensionless comoving distance to third order in z \n",
    "    as a function of z\n",
    "\n",
    "    Inputs:\n",
    "    z - redshift\n",
    "    Om0 - Fractional matter density at z=0\n",
    "    Ode0 - Fractional dark energy density at z=0\n",
    "\n",
    "    Returns:\n",
    "    chi - dimensionless comoving distance (H_0 \\chi * c^-1)\n",
    "    '''\n",
    "\n",
    "    z_array = np.linspace(0, z, 1000)\n",
    "\n",
    "    integrand = (\n",
    "        1 \n",
    "        + ( ( -2 + 2*Ode0 - Om0 ) / 2 ) * z_array \n",
    "        + ( ( 8 - 20*Ode0 + 12*Ode0**2 + 4*Om0 + 3*Om0**2 - 12*Ode0*Om0 ) / 8 ) * z_array**2 \n",
    "    )\n",
    "    \n",
    "    return np.trapz(integrand, x=z_array)\n",
    "\n",
    "def chi_secondorder(z, Om0, Ode0):\n",
    "    '''\n",
    "    Function to compute the approximate dimensionless comoving distance to third order in z \n",
    "    as a function of z\n",
    "\n",
    "    Inputs:\n",
    "    z - redshift\n",
    "    Om0 - Fractional matter density at z=0\n",
    "    Ode0 - Fractional dark energy density at z=0\n",
    "\n",
    "    Returns:\n",
    "    chi - dimensionless comoving distance (H_0 \\chi * c^-1)\n",
    "    '''\n",
    "\n",
    "    z_array = np.linspace(0, z, 1000)\n",
    "\n",
    "    integrand = (\n",
    "        1 \n",
    "        + ( ( -2 + 2*Ode0 - Om0 ) / 2 ) * z_array \n",
    "    )\n",
    "    \n",
    "    return np.trapz(integrand, x=z_array)"
   ]
  },
  {
   "cell_type": "markdown",
   "id": "28fd551d-cddf-497f-a6e8-6b785849a36c",
   "metadata": {},
   "source": [
    "### Find the $z$ at which the error exceed 10%"
   ]
  },
  {
   "cell_type": "markdown",
   "id": "61c4a205-0157-40a4-a5fb-04ed46e25411",
   "metadata": {},
   "source": [
    "For the third order approximation:"
   ]
  },
  {
   "cell_type": "code",
   "execution_count": 18,
   "id": "a71d3a0a-c2aa-4bca-b257-45fd77324bbc",
   "metadata": {},
   "outputs": [
    {
     "data": {
      "text/plain": [
       "1.2042932510375977"
      ]
     },
     "execution_count": 18,
     "metadata": {},
     "output_type": "execute_result"
    }
   ],
   "source": [
    "# Initialize the search interval for z\n",
    "z_low, z_high = 0.0, 2\n",
    "\n",
    "tolerance = 1e-6 # Precision of z\n",
    "target = 0.1 # Looking for delta to be within 10%\n",
    "\n",
    "# Perform the bisection search\n",
    "while z_high - z_low > tolerance:\n",
    "    z_mid = (z_low + z_high) / 2\n",
    "    delta_mid = np.abs(( chi_thirdorder(z_mid, Om0, Ode0) - chi(z_mid, Om0, Ode0) ) / chi(z_mid, Om0, Ode0)) # % pct error\n",
    "    if delta_mid > target:\n",
    "        z_high = z_mid\n",
    "    else:\n",
    "        z_low = z_mid\n",
    "\n",
    "z_mid"
   ]
  },
  {
   "cell_type": "markdown",
   "id": "52aa3435-e3c6-4b49-b986-9b7874360d3c",
   "metadata": {},
   "source": [
    "For the second order approximation:"
   ]
  },
  {
   "cell_type": "code",
   "execution_count": 63,
   "id": "4268aa60-cdec-43ea-9e9c-9ea819a21610",
   "metadata": {},
   "outputs": [
    {
     "data": {
      "text/plain": [
       "2.0541709661483765"
      ]
     },
     "execution_count": 63,
     "metadata": {},
     "output_type": "execute_result"
    }
   ],
   "source": [
    "# Initialize the search interval for z\n",
    "z_low, z_high = 0.0, 2.5\n",
    "\n",
    "tolerance = 1e-6 # Precision of z\n",
    "target = 0.1 # Looking for delta to be within 10%\n",
    "\n",
    "# Perform the bisection search\n",
    "while z_high - z_low > tolerance:\n",
    "    z_mid = (z_low + z_high) / 2\n",
    "    delta_mid = np.abs(( chi_secondorder(z_mid, Om0, Ode0) - chi(z_mid, Om0, Ode0) ) / chi(z_mid, Om0, Ode0)) # fractinal error\n",
    "    if delta_mid > target:\n",
    "        z_high = z_mid\n",
    "    else:\n",
    "        z_low = z_mid\n",
    "\n",
    "z_mid"
   ]
  },
  {
   "cell_type": "markdown",
   "id": "5a6a7eb2-dbf1-4575-b966-55ea10826ae2",
   "metadata": {},
   "source": [
    "For the first oder approximation:"
   ]
  },
  {
   "cell_type": "markdown",
   "id": "a446ed77-4ce1-4598-8bf1-0d81563badd2",
   "metadata": {},
   "source": [
    "This will help us see at what redshift we begin to probe the cosmological density parameters."
   ]
  },
  {
   "cell_type": "code",
   "execution_count": 59,
   "id": "48a3b7de-46a0-4ea2-a13e-6ba471f9eaa9",
   "metadata": {},
   "outputs": [
    {
     "data": {
      "text/plain": [
       "0.3857755661010742"
      ]
     },
     "execution_count": 59,
     "metadata": {},
     "output_type": "execute_result"
    }
   ],
   "source": [
    "# Initialize the search interval for z\n",
    "z_low, z_high = 0.0, 2\n",
    "\n",
    "tolerance = 1e-6 # Precision of z\n",
    "target = 0.1 # Looking for delta to be within 10%\n",
    "\n",
    "# Perform the bisection search\n",
    "while z_high - z_low > tolerance:\n",
    "    z_mid = (z_low + z_high) / 2\n",
    "    delta_mid = np.abs(( z_mid - chi(z_mid, Om0, Ode0) ) / chi(z_mid, Om0, Ode0)) # % pct error\n",
    "    if delta_mid > target:\n",
    "        z_high = z_mid\n",
    "    else:\n",
    "        z_low = z_mid\n",
    "\n",
    "z_mid"
   ]
  },
  {
   "cell_type": "markdown",
   "id": "92a8f210-0ab2-4eef-ac4f-cc6a28071c11",
   "metadata": {},
   "source": [
    "Surprisingly, we find that the third order approximation diverges at a smaller redshift than the second order approximation.  Let's plot each term of the expansion relative to the exact value"
   ]
  },
  {
   "cell_type": "code",
   "execution_count": 61,
   "id": "45e912ad-c29e-4910-9fc9-2ffdc7e04bb3",
   "metadata": {},
   "outputs": [],
   "source": [
    "z = np.linspace(0,1,1000)\n",
    "exact = chi(z, Om0, Ode0)\n",
    "third = chi_thirdorder(z, Om0, Ode0)\n",
    "second = chi_secondorder(z, Om0, Ode0)\n",
    "first = z\n",
    "\n",
    "error2 = second - exact\n",
    "error3 = third - exact"
   ]
  },
  {
   "cell_type": "code",
   "execution_count": 64,
   "id": "6391a75d-8387-4f6e-a962-9b084d770df5",
   "metadata": {},
   "outputs": [
    {
     "data": {
      "image/png": "[encoded data removed]",
      "text/plain": [
       "<Figure size 700x600 with 1 Axes>"
      ]
     },
     "metadata": {},
     "output_type": "display_data"
    }
   ],
   "source": [
    "fig, ax = plt.subplots(1, 1, figsize=(7,6))\n",
    "\n",
    "# ax.plot(z, exact, ls='-', color='black', label='exact')\n",
    "# ax.plot(z, first, ls='--', color='black', label='one term exp.')\n",
    "# ax.plot(z, second, ls=':', color='black', label='two term exp.')\n",
    "# ax.plot(z, third, ls='-.', color='black', label='three term exp.')\n",
    "\n",
    "ax.plot(z, error2, ls='-', color='black', label='error 2$^\\mathrm{nd}$ order exp.')\n",
    "ax.plot(z, error3, ls='--', color='black', label='error 3$^\\mathrm{nd}$ order exp.')\n",
    "\n",
    "ax.set_axisbelow(True)\n",
    "ax.xaxis.grid(color='gray', alpha=0.5, linestyle='-')\n",
    "ax.yaxis.grid(color='gray', alpha=0.5, linestyle='-')\n",
    "\n",
    "ax.set_xlabel('$z$', fontsize=18)\n",
    "ax.set_ylabel(r'$ H_0\\ c^{-1}\\ \\left(\\chi_\\mathrm{approx} - \\chi\\right)$', fontsize=18)\n",
    "\n",
    "ax.legend(fontsize=14)\n",
    "\n",
    "fig.savefig('/Users/yaronetokayer/Yale Drive/Classes/PHYS 600/phys600 hw/phys600 hw 3/chi_plot.png',\n",
    "           dpi=300, bbox_inches='tight')"
   ]
  },
  {
   "cell_type": "code",
   "execution_count": null,
   "id": "2770d7f8-9a05-4f2c-9f25-9724dfc63c98",
   "metadata": {},
   "outputs": [],
   "source": []
  }
 ],
 "metadata": {
  "kernelspec": {
   "display_name": "phys600_py3",
   "language": "python",
   "name": "phys600_py3"
  },
  "language_info": {
   "codemirror_mode": {
    "name": "ipython",
    "version": 3
   },
   "file_extension": ".py",
   "mimetype": "text/x-python",
   "name": "python",
   "nbconvert_exporter": "python",
   "pygments_lexer": "ipython3",
   "version": "3.11.5"
  }
 },
 "nbformat": 4,
 "nbformat_minor": 5
}
